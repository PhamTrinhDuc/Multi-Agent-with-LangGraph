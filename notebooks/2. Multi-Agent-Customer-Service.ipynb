{
 "cells": [
  {
   "cell_type": "code",
   "execution_count": null,
   "metadata": {},
   "outputs": [],
   "source": []
  },
  {
   "cell_type": "code",
   "execution_count": null,
   "metadata": {},
   "outputs": [],
   "source": []
  },
  {
   "cell_type": "markdown",
   "metadata": {},
   "source": [
    "* ```ResearchAgent```: Phân tích tài liệu để trích xuất thông tin như Sản phẩm/dịch vụ của công ty, đặc điểm nổi bật, case studies hoặc các thành công đạt được.\n",
    "* ```StrategyAgent```: Lên kế hoạch chiến lược cho email bao gồm: Thông điệp chính, giọng văn và cách tiếp cận, các điểm cụ thể cần đưa vào, cấu trúc email.\n",
    "* ```WriterAgent```: Viết nội dung email dựa trên chiến lược và nghiên cứu, tiêu đề phải thu hút, lời chào cá nhân hóa, nội dung hấp dẫn."
   ]
  },
  {
   "cell_type": "markdown",
   "metadata": {},
   "source": [
    "### 1. Import libraries"
   ]
  },
  {
   "cell_type": "code",
   "execution_count": 1,
   "metadata": {},
   "outputs": [],
   "source": [
    "import os\n",
    "import json\n",
    "from typing import TypedDict, Annotated, Sequence, Union, List\n",
    "from dotenv import load_dotenv\n",
    "from langchain.text_splitter import RecursiveCharacterTextSplitter\n",
    "from langchain_core.documents import Document\n",
    "from langchain.chat_models.openai import ChatOpenAI\n",
    "from langchain.embeddings import OpenAIEmbeddings\n",
    "from langchain.vectorstores import Chroma\n",
    "from langchain.chains import RetrievalQA\n",
    "from langchain.document_loaders import TextLoader, DirectoryLoader\n",
    "from langchain_core.messages import HumanMessage, AIMessage\n",
    "from langchain_core.output_parsers import JsonOutputParser\n",
    "from langgraph.graph import StateGraph, START, END\n",
    "\n"
   ]
  },
  {
   "cell_type": "code",
   "execution_count": 2,
   "metadata": {},
   "outputs": [],
   "source": [
    "load_dotenv()\n",
    "os.environ[\"OPENAI_API_KEY\"] = os.getenv(\"OPENAI_API_KEY\")"
   ]
  },
  {
   "cell_type": "markdown",
   "metadata": {},
   "source": [
    "### 2. Load documents and create vectorstore"
   ]
  },
  {
   "cell_type": "code",
   "execution_count": 3,
   "metadata": {},
   "outputs": [],
   "source": [
    "def load_documents(folder_path: str):\n",
    "    loader = DirectoryLoader(path=folder_path, glob=\"./*.txt\", \n",
    "                             loader_cls=lambda path: TextLoader(file_path=path, encoding=\"utf-8\"))\n",
    "    documents = loader.load()\n",
    "    return documents\n",
    "\n",
    "def create_vector_store(documents: List[Document], db_dir_persist: str=\"db\"):\n",
    "    text_splitter = RecursiveCharacterTextSplitter(chunk_size=1000, chunk_overlap=200)\n",
    "    documents = text_splitter.split_documents(documents=documents)\n",
    "    embedding = OpenAIEmbeddings(model=\"text-embedding-ada-002\")\n",
    "\n",
    "    vectorstore = Chroma.from_documents(\n",
    "        documents=documents, \n",
    "        embedding=embedding, \n",
    "        persist_directory=db_dir_persist\n",
    "    )\n",
    "    return vectorstore"
   ]
  },
  {
   "cell_type": "code",
   "execution_count": 4,
   "metadata": {},
   "outputs": [
    {
     "name": "stderr",
     "output_type": "stream",
     "text": [
      "/tmp/ipykernel_61451/1291930362.py:1: LangChainDeprecationWarning: The class `ChatOpenAI` was deprecated in LangChain 0.0.10 and will be removed in 1.0. An updated version of the class exists in the langchain-openai package and should be used instead. To use it run `pip install -U langchain-openai` and import as `from langchain_openai import ChatOpenAI`.\n",
      "  llm = ChatOpenAI(temperature=0.7)\n"
     ]
    }
   ],
   "source": [
    "llm = ChatOpenAI(temperature=0.7)\n"
   ]
  },
  {
   "cell_type": "markdown",
   "metadata": {},
   "source": [
    "### 3. Create state graph"
   ]
  },
  {
   "cell_type": "code",
   "execution_count": 5,
   "metadata": {},
   "outputs": [],
   "source": [
    "class AgentSate(TypedDict):\n",
    "    language: str\n",
    "    messages: List[str]\n",
    "    topic: str\n",
    "    recipient_type: str\n",
    "    research_findings: str\n",
    "    email_stragety: str\n",
    "    final_email: str\n",
    "    current_agent: str\n",
    "    next_agent: str\n",
    "    done: bool"
   ]
  },
  {
   "cell_type": "markdown",
   "metadata": {},
   "source": [
    "### 4. Create agents"
   ]
  },
  {
   "cell_type": "code",
   "execution_count": 6,
   "metadata": {},
   "outputs": [
    {
     "name": "stderr",
     "output_type": "stream",
     "text": [
      "/tmp/ipykernel_61451/2252237509.py:10: LangChainDeprecationWarning: The class `OpenAIEmbeddings` was deprecated in LangChain 0.0.9 and will be removed in 1.0. An updated version of the class exists in the langchain-openai package and should be used instead. To use it run `pip install -U langchain-openai` and import as `from langchain_openai import OpenAIEmbeddings`.\n",
      "  embedding = OpenAIEmbeddings(model=\"text-embedding-ada-002\")\n"
     ]
    }
   ],
   "source": [
    "documents = load_documents(folder_path=\"data\")\n",
    "vector_store = create_vector_store(documents=documents)\n",
    "\n",
    "state = AgentSate(\n",
    "    language=\"Vietnamese\",\n",
    "    messages=[],\n",
    "    topic=\"Devops\",\n",
    "    recipient_type=\"customer\",\n",
    "    research_findings=\"\",\n",
    "    email_strategy=\"\",\n",
    "    final_email=\"\",\n",
    "    current_agent=\"\",\n",
    "    next_agent=\"research\",\n",
    "    done=False\n",
    ")\n"
   ]
  },
  {
   "cell_type": "markdown",
   "metadata": {},
   "source": [
    "```4.1 Research agent```"
   ]
  },
  {
   "cell_type": "code",
   "execution_count": 7,
   "metadata": {},
   "outputs": [],
   "source": [
    "class ResearchAgent:\n",
    "\n",
    "    def __init__(self, vector_store: Chroma):\n",
    "        self.retriever = vector_store.as_retriever(\n",
    "                search_type=\"similarity_score_threshold\",\n",
    "                search_kwargs={'score_threshold': 0.5, \"k\": 3}\n",
    "            )\n",
    "        self.qa_chain = RetrievalQA.from_chain_type(\n",
    "            llm=llm,\n",
    "            chain_type=\"stuff\",\n",
    "            retriever=self.retriever,\n",
    "            return_source_documents=True\n",
    "        )\n",
    "\n",
    "    def __call__(self, state: AgentSate) -> dict:\n",
    "        print(\"Research Agent: Analyzing documents...\")\n",
    "\n",
    "        query = f\"\"\"\n",
    "        Analyze the provided documents and extract key information about:\n",
    "        1. Our company's services/products\n",
    "        2. Key selling points\n",
    "        3. Relevant case studies or success stories\n",
    "        4. Any specific information related to {state['topic']}\n",
    "\n",
    "        Format the findings in a clear, structured way. \n",
    "        \"\"\"\n",
    "        # Use only language {state['language']} for answer\n",
    "\n",
    "        response = self.qa_chain.invoke({\"query\": query})\n",
    "        state['research_findings'] = response['result']\n",
    "        state['current_agent'] = \"research\"\n",
    "        state['next_agent'] = \"strategy\" \n",
    "        return state\n",
    "    "
   ]
  },
  {
   "cell_type": "code",
   "execution_count": 8,
   "metadata": {},
   "outputs": [
    {
     "name": "stdout",
     "output_type": "stream",
     "text": [
      "Research Agent: Analyzing documents...\n"
     ]
    },
    {
     "name": "stderr",
     "output_type": "stream",
     "text": [
      "Number of requested results 3 is greater than number of elements in index 2, updating n_results = 2\n"
     ]
    },
    {
     "data": {
      "text/plain": [
       "{'language': 'Vietnamese',\n",
       " 'messages': [],\n",
       " 'topic': 'Devops',\n",
       " 'recipient_type': 'customer',\n",
       " 'research_findings': '1. Dịch vụ/Sản phẩm của chúng tôi:\\n- DevOps Engineering: Học phí Online 10$, Offline 20$. Nội dung học CI/CD, quản lý hệ thống tự động, Docker, Kubernetes.\\n- Backend Development: Học phí Online 20$, Offline 30$. Nội dung học API, microservices, cơ sở dữ liệu, hiệu năng, bảo mật.\\n- Frontend Development: Học phí Online 30$, Offline 40$. Nội dung học giao diện người dùng, framework JavaScript, responsive design.\\n\\n2. Điểm nổi bật:\\n- Thực tiễn cao: Case study thực tế, giải quyết bài toán công việc, xây dựng portfolio.\\n- Đội ngũ giảng viên chất lượng: Mentor có kinh nghiệm, làm việc tại các công ty hàng đầu, đào tạo phong phú.\\n- Phương thức thanh toán linh hoạt: Thẻ tín dụng, chuyển khoản, trả góp.\\n\\n3. Thành công từ các case study:\\n- Chú trọng vào các bài toán thực tế từ doanh nghiệp.\\n- Học viên xây dựng portfolio thực tế.\\n- Mentor có kinh nghiệm giúp giải quyết các vấn đề công việc.\\n\\n4. Thông tin cụ thể về DevOps:\\n- DevOps Engineering: Học phí Online 10$, Offline 20$. Nội dung học CI/CD, quản lý hệ thống tự động, Docker, Kubernetes.',\n",
       " 'email_strategy': '',\n",
       " 'final_email': '',\n",
       " 'current_agent': 'research',\n",
       " 'next_agent': 'strategy',\n",
       " 'done': False}"
      ]
     },
     "execution_count": 8,
     "metadata": {},
     "output_type": "execute_result"
    }
   ],
   "source": [
    "reseacher = ResearchAgent(vector_store=vector_store)\n",
    "state = reseacher(state=state)\n",
    "state"
   ]
  },
  {
   "cell_type": "markdown",
   "metadata": {},
   "source": [
    "```4.2 Stragety Agent```"
   ]
  },
  {
   "cell_type": "code",
   "execution_count": null,
   "metadata": {},
   "outputs": [],
   "source": []
  }
 ],
 "metadata": {
  "kernelspec": {
   "display_name": "agent_ai",
   "language": "python",
   "name": "python3"
  },
  "language_info": {
   "codemirror_mode": {
    "name": "ipython",
    "version": 3
   },
   "file_extension": ".py",
   "mimetype": "text/x-python",
   "name": "python",
   "nbconvert_exporter": "python",
   "pygments_lexer": "ipython3",
   "version": "3.11.10"
  }
 },
 "nbformat": 4,
 "nbformat_minor": 2
}
