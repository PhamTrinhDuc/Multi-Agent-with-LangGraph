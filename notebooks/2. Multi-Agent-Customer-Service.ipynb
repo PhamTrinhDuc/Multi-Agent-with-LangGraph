{
 "cells": [
  {
   "cell_type": "code",
   "execution_count": null,
   "metadata": {},
   "outputs": [],
   "source": []
  },
  {
   "cell_type": "code",
   "execution_count": null,
   "metadata": {},
   "outputs": [],
   "source": []
  },
  {
   "cell_type": "markdown",
   "metadata": {},
   "source": [
    "* ```ResearchAgent```: Phân tích tài liệu để trích xuất thông tin như Sản phẩm/dịch vụ của công ty, đặc điểm nổi bật, case studies hoặc các thành công đạt được.\n",
    "* ```StrategyAgent```: Lên kế hoạch chiến lược cho email bao gồm: Thông điệp chính, giọng văn và cách tiếp cận, các điểm cụ thể cần đưa vào, cấu trúc email.\n",
    "* ```WriterAgent```: Viết nội dung email dựa trên chiến lược và nghiên cứu, tiêu đề phải thu hút, lời chào cá nhân hóa, nội dung hấp dẫn."
   ]
  },
  {
   "cell_type": "markdown",
   "metadata": {},
   "source": [
    "### 1. Import libraries"
   ]
  },
  {
   "cell_type": "code",
   "execution_count": 1,
   "metadata": {},
   "outputs": [],
   "source": [
    "import os\n",
    "import json\n",
    "from typing import TypedDict, Annotated, Sequence, Union, List\n",
    "from dotenv import load_dotenv\n",
    "from langchain.text_splitter import RecursiveCharacterTextSplitter\n",
    "from langchain_core.documents import Document\n",
    "from langchain.chat_models.openai import ChatOpenAI\n",
    "from langchain.embeddings import OpenAIEmbeddings\n",
    "from langchain.vectorstores import Chroma\n",
    "from langchain.chains import RetrievalQA\n",
    "from langchain.document_loaders import TextLoader, DirectoryLoader\n",
    "from langchain_core.messages import HumanMessage, AIMessage\n",
    "from langchain_core.output_parsers import JsonOutputParser\n",
    "from langgraph.graph import StateGraph, START, END\n",
    "\n"
   ]
  },
  {
   "cell_type": "code",
   "execution_count": 2,
   "metadata": {},
   "outputs": [],
   "source": [
    "load_dotenv()\n",
    "os.environ[\"OPENAI_API_KEY\"] = os.getenv(\"OPENAI_API_KEY\")"
   ]
  },
  {
   "cell_type": "markdown",
   "metadata": {},
   "source": [
    "### 2. Load documents and create vectorstore"
   ]
  },
  {
   "cell_type": "code",
   "execution_count": 3,
   "metadata": {},
   "outputs": [],
   "source": [
    "def load_documents(folder_path: str):\n",
    "    loader = DirectoryLoader(path=folder_path, glob=\"./*.txt\", \n",
    "                             loader_cls=lambda path: TextLoader(file_path=path, encoding=\"utf-8\"))\n",
    "    documents = loader.load()\n",
    "    return documents\n",
    "\n",
    "def create_vector_store(documents: List[Document], db_dir_persist: str=\"db\"):\n",
    "    text_splitter = RecursiveCharacterTextSplitter(chunk_size=1000, chunk_overlap=200)\n",
    "    documents = text_splitter.split_documents(documents=documents)\n",
    "    embedding = OpenAIEmbeddings(model=\"text-embedding-ada-002\")\n",
    "\n",
    "    vectorstore = Chroma.from_documents(\n",
    "        documents=documents, \n",
    "        embedding=embedding, \n",
    "        persist_directory=db_dir_persist\n",
    "    )\n",
    "    return vectorstore"
   ]
  },
  {
   "cell_type": "code",
   "execution_count": 4,
   "metadata": {},
   "outputs": [
    {
     "name": "stderr",
     "output_type": "stream",
     "text": [
      "/tmp/ipykernel_164340/1291930362.py:1: LangChainDeprecationWarning: The class `ChatOpenAI` was deprecated in LangChain 0.0.10 and will be removed in 1.0. An updated version of the class exists in the langchain-openai package and should be used instead. To use it run `pip install -U langchain-openai` and import as `from langchain_openai import ChatOpenAI`.\n",
      "  llm = ChatOpenAI(temperature=0.7)\n"
     ]
    }
   ],
   "source": [
    "llm = ChatOpenAI(temperature=0.7)\n"
   ]
  },
  {
   "cell_type": "markdown",
   "metadata": {},
   "source": [
    "### 3. Create state graph"
   ]
  },
  {
   "cell_type": "code",
   "execution_count": 5,
   "metadata": {},
   "outputs": [],
   "source": [
    "class AgentSate(TypedDict):\n",
    "    language: str\n",
    "    messages: List[str]\n",
    "    topic: str\n",
    "    recipient_type: str\n",
    "    research_findings: str\n",
    "    email_stragety: str\n",
    "    final_email: str\n",
    "    current_agent: str\n",
    "    next_agent: str\n",
    "    done: bool"
   ]
  },
  {
   "cell_type": "markdown",
   "metadata": {},
   "source": [
    "### 4. Create agents"
   ]
  },
  {
   "cell_type": "code",
   "execution_count": 6,
   "metadata": {},
   "outputs": [
    {
     "name": "stderr",
     "output_type": "stream",
     "text": [
      "/tmp/ipykernel_164340/2252237509.py:10: LangChainDeprecationWarning: The class `OpenAIEmbeddings` was deprecated in LangChain 0.0.9 and will be removed in 1.0. An updated version of the class exists in the langchain-openai package and should be used instead. To use it run `pip install -U langchain-openai` and import as `from langchain_openai import OpenAIEmbeddings`.\n",
      "  embedding = OpenAIEmbeddings(model=\"text-embedding-ada-002\")\n"
     ]
    }
   ],
   "source": [
    "documents = load_documents(folder_path=\"data\")\n",
    "vector_store = create_vector_store(documents=documents)\n",
    "\n",
    "state = AgentSate(\n",
    "    language=\"Vietnamese\",\n",
    "    messages=[],\n",
    "    topic=\"Devops\",\n",
    "    recipient_type=\"customer\",\n",
    "    research_findings=\"\",\n",
    "    email_strategy=\"\",\n",
    "    final_email=\"\",\n",
    "    current_agent=\"\",\n",
    "    next_agent=\"research\",\n",
    "    done=False\n",
    ")\n"
   ]
  },
  {
   "cell_type": "markdown",
   "metadata": {},
   "source": [
    "```4.1 Research agent```"
   ]
  },
  {
   "cell_type": "code",
   "execution_count": 7,
   "metadata": {},
   "outputs": [],
   "source": [
    "class ResearchAgent:\n",
    "\n",
    "    def __init__(self, vector_store: Chroma):\n",
    "        self.retriever = vector_store.as_retriever(\n",
    "                search_type=\"similarity_score_threshold\",\n",
    "                search_kwargs={'score_threshold': 0.5, \"k\": 3}\n",
    "            )\n",
    "        self.qa_chain = RetrievalQA.from_chain_type(\n",
    "            llm=llm,\n",
    "            chain_type=\"stuff\",\n",
    "            retriever=self.retriever,\n",
    "            return_source_documents=True\n",
    "        )\n",
    "\n",
    "    def __call__(self, state: AgentSate) -> dict:\n",
    "        print(\"Research Agent: Analyzing documents...\")\n",
    "\n",
    "        query = f\"\"\"\n",
    "        Analyze the provided documents and extract key information about:\n",
    "        1. Our company's services/products\n",
    "        2. Key selling points\n",
    "        3. Relevant case studies or success stories\n",
    "        4. Any specific information related to {state['topic']}\n",
    "\n",
    "        Format the findings in a clear, structured way. \n",
    "        \"\"\"\n",
    "        # Use only language {state['language']} for answer\n",
    "\n",
    "        response = self.qa_chain.invoke({\"query\": query})\n",
    "        state['research_findings'] = response['result']\n",
    "        state['current_agent'] = \"research\"\n",
    "        state['next_agent'] = \"strategy\" \n",
    "        return state\n",
    "    "
   ]
  },
  {
   "cell_type": "code",
   "execution_count": 8,
   "metadata": {},
   "outputs": [
    {
     "name": "stdout",
     "output_type": "stream",
     "text": [
      "Research Agent: Analyzing documents...\n"
     ]
    },
    {
     "data": {
      "text/plain": [
       "{'language': 'Vietnamese',\n",
       " 'messages': [],\n",
       " 'topic': 'Devops',\n",
       " 'recipient_type': 'customer',\n",
       " 'research_findings': \"**Company's Services/Products:**\\n\\n1. DevOps Engineering:\\n   - Online course: $10\\n   - Offline course: $20 (includes direct support)\\n   - Course Content:\\n     - Understanding CI/CD processes\\n     - Managing and deploying automated systems\\n     - Working with Docker, Kubernetes tools\\n     - Building and optimizing software development processes\\n\\n2. Backend Development:\\n   - Online course: $20\\n   - Offline course: $30 (includes direct support)\\n   - Course Content:\\n     - Developing APIs and microservices\\n     - Database design\\n     - Addressing performance and security issues\\n     - Modern frameworks and technologies\\n\\n3. Frontend Development:\\n   - Online course: $30\\n   - Offline course: $40 (includes direct support)\\n   - Course Content:\\n     - User interface development\\n     - User experience optimization\\n     - Working with modern JavaScript frameworks\\n     - Responsive design and mobile-first approach\\n\\n**Key Selling Points:**\\n- High practicality:\\n  - Focus on real case studies from businesses\\n  - Students solve real work-related problems\\n  - Build a practical portfolio during the learning process\\n- Quality instructors:\\n  - Mentors with extensive industry experience\\n  - Working in leading technology companies\\n  - Rich teaching and training experience\\n- Flexible payment methods:\\n  - Credit cards\\n  - Safe and secure payment options\\n  - Support for various card types\\n  - Bank transfers\\n  - Direct transfers\\n  - Fast confirmation\\n  - Payment installments\\n\\n**Specific Information related to DevOps:**\\n- DevOps Engineering course details:\\n  - Focus on CI/CD processes and automated system management\\n  - Involves working with Docker and Kubernetes tools\\n  - Emphasis on building and optimizing software development processes\\n\\n**Relevant Case Studies or Success Stories:**\\n- No specific case studies or success stories mentioned in the provided text.\\n\\n**Conclusion:**\\nThe company offers courses in DevOps Engineering, Backend Development, and Frontend Development at varying price points with offline and online options. The key selling points include practical learning experiences, quality instructors, and flexible payment methods. The DevOps Engineering course specifically focuses on CI/CD processes, automated system management, and tools like Docker and Kubernetes. No specific case studies or success stories were mentioned in the provided information.\",\n",
       " 'email_strategy': '',\n",
       " 'final_email': '',\n",
       " 'current_agent': 'research',\n",
       " 'next_agent': 'strategy',\n",
       " 'done': False}"
      ]
     },
     "execution_count": 8,
     "metadata": {},
     "output_type": "execute_result"
    }
   ],
   "source": [
    "reseacher = ResearchAgent(vector_store=vector_store)\n",
    "state = reseacher(state=state)\n",
    "state"
   ]
  },
  {
   "cell_type": "markdown",
   "metadata": {},
   "source": [
    "```4.2 Stragety Agent```"
   ]
  },
  {
   "cell_type": "code",
   "execution_count": null,
   "metadata": {},
   "outputs": [],
   "source": []
  }
 ],
 "metadata": {
  "kernelspec": {
   "display_name": "agent_ai",
   "language": "python",
   "name": "python3"
  },
  "language_info": {
   "codemirror_mode": {
    "name": "ipython",
    "version": 3
   },
   "file_extension": ".py",
   "mimetype": "text/x-python",
   "name": "python",
   "nbconvert_exporter": "python",
   "pygments_lexer": "ipython3",
   "version": "3.11.10"
  }
 },
 "nbformat": 4,
 "nbformat_minor": 2
}
