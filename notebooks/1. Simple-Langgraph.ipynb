{
 "cells": [
  {
   "cell_type": "code",
   "execution_count": null,
   "metadata": {},
   "outputs": [],
   "source": []
  },
  {
   "cell_type": "code",
   "execution_count": null,
   "metadata": {},
   "outputs": [],
   "source": []
  },
  {
   "cell_type": "code",
   "execution_count": 1,
   "metadata": {},
   "outputs": [
    {
     "name": "stdout",
     "output_type": "stream",
     "text": [
      "---Analyzing Sentiment---\n",
      "---Router---\n",
      "---Negative Response---\n"
     ]
    },
    {
     "data": {
      "image/jpeg": "[encoded data removed]",
      "text/plain": [
       "<IPython.core.display.Image object>"
      ]
     },
     "metadata": {},
     "output_type": "display_data"
    },
    {
     "name": "stdout",
     "output_type": "stream",
     "text": [
      "{'message': 'We’re sorry to hear that. How can we improve? 😞'}\n"
     ]
    }
   ],
   "source": [
    "from typing_extensions import TypedDict\n",
    "from typing import Literal\n",
    "from langgraph.graph import StateGraph, START, END\n",
    "from IPython.display import Image, display\n",
    "\n",
    "class State(TypedDict):\n",
    "    message: str\n",
    "    sentimant: str\n",
    "\n",
    "def analyze_sentiment(state):\n",
    "    print(\"---Analyzing Sentiment---\")\n",
    "    text = state[\"message\"].lower()\n",
    "    \n",
    "    # Simple sentiment analysis\n",
    "    if any(word.lower() in text for word in [\"good\", \"great\", \"happy\"]):\n",
    "        return {\"sentiment\": \"positive\"}\n",
    "    if any(word.lower() in text for word in [\"bad\", \"sad\", \"terrible\"]):\n",
    "        return {\"sentiment\": \"negative\"}\n",
    "    return {\"sentiment\": \"neutral\"}\n",
    "\n",
    "def positive_response(state):\n",
    "    print(\"---Positive Response---\")\n",
    "    return {\"message\": \"Thank you for the positive feedback! 😊\"}\n",
    "\n",
    "def negative_response(state):\n",
    "    print(\"---Negative Response---\")\n",
    "    return {\"message\": \"We’re sorry to hear that. How can we improve? 😞\"}\n",
    "\n",
    "\n",
    "def sentiment_router(state) -> Literal[\"positive_response\", \"negative_response\"]:\n",
    "    print(\"---Router---\")\n",
    "    if state[\"sentiment\"] == \"positive\":\n",
    "        return \"positive_response\"\n",
    "    return \"negative_response\"\n",
    "\n",
    "\n",
    "def build_graph():\n",
    "    graph = StateGraph(state_schema=State)\n",
    "\n",
    "    # add node\n",
    "    graph.add_node(\"analyze_sentiment\", analyze_sentiment)\n",
    "    graph.add_node(\"positive_response\", positive_response)\n",
    "    graph.add_node(\"negative_response\", negative_response)\n",
    "\n",
    "\n",
    "    # add edge\n",
    "    graph.add_edge(start_key=START, end_key=\"analyze_sentiment\")\n",
    "    graph.add_conditional_edges(\"analyze_sentiment\", sentiment_router)\n",
    "    graph.add_edge(start_key=\"negative_response\", end_key=END)\n",
    "    graph.add_edge(start_key=\"positive_response\", end_key=END)\n",
    "\n",
    "    # Compile graph\n",
    "    compile_graph = graph.compile()\n",
    "    return compile_graph\n",
    "\n",
    "def main():\n",
    "    graph = build_graph()\n",
    "    # Invoke the graph with input\n",
    "    result = graph.invoke({\"message\": \"Bad today!\"})\n",
    "    display(Image(graph.get_graph().draw_mermaid_png()))\n",
    "    print(result)\n",
    "\n",
    "if __name__ == \"__main__\":\n",
    "    main()"
   ]
  }
 ],
 "metadata": {
  "kernelspec": {
   "display_name": "agent_ai",
   "language": "python",
   "name": "python3"
  },
  "language_info": {
   "codemirror_mode": {
    "name": "ipython",
    "version": 3
   },
   "file_extension": ".py",
   "mimetype": "text/x-python",
   "name": "python",
   "nbconvert_exporter": "python",
   "pygments_lexer": "ipython3",
   "version": "3.11.10"
  }
 },
 "nbformat": 4,
 "nbformat_minor": 2
}
